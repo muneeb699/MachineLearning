{
 "cells": [
  {
   "cell_type": "code",
   "execution_count": 1,
   "metadata": {
    "collapsed": true
   },
   "outputs": [],
   "source": [
    "import csv as csv\n",
    "import numpy as np"
   ]
  },
  {
   "cell_type": "code",
   "execution_count": 4,
   "metadata": {
    "collapsed": false
   },
   "outputs": [],
   "source": [
    "csv_file_object = csv.reader(open('../MachineLearning/train.csv', 'rb'))"
   ]
  },
  {
   "cell_type": "code",
   "execution_count": 5,
   "metadata": {
    "collapsed": true
   },
   "outputs": [],
   "source": [
    "header = csv_file_object.next()"
   ]
  },
  {
   "cell_type": "code",
   "execution_count": 7,
   "metadata": {
    "collapsed": false
   },
   "outputs": [],
   "source": [
    "data = []\n",
    "for row in csv_file_object:\n",
    "    data.append(row)\n",
    "data = np.array(data)"
   ]
  },
  {
   "cell_type": "raw",
   "metadata": {},
   "source": [
    "print data"
   ]
  },
  {
   "cell_type": "code",
   "execution_count": 8,
   "metadata": {
    "collapsed": false
   },
   "outputs": [
    {
     "name": "stdout",
     "output_type": "stream",
     "text": [
      "[['3' '1' '3' ..., '7.925' '' 'S']\n",
      " ['4' '1' '1' ..., '53.1' 'C123' 'S']\n",
      " ['5' '0' '3' ..., '8.05' '' 'S']\n",
      " ..., \n",
      " ['889' '0' '3' ..., '23.45' '' 'S']\n",
      " ['890' '1' '1' ..., '30' 'C148' 'C']\n",
      " ['891' '0' '3' ..., '7.75' '' 'Q']]\n"
     ]
    }
   ],
   "source": [
    "print data"
   ]
  },
  {
   "cell_type": "code",
   "execution_count": 9,
   "metadata": {
    "collapsed": false
   },
   "outputs": [
    {
     "name": "stdout",
     "output_type": "stream",
     "text": [
      "['3' '1' '3' 'Heikkinen, Miss. Laina' 'female' '26' '0' '0'\n",
      " 'STON/O2. 3101282' '7.925' '' 'S']\n"
     ]
    }
   ],
   "source": [
    "print data[0]"
   ]
  },
  {
   "cell_type": "code",
   "execution_count": 10,
   "metadata": {
    "collapsed": false
   },
   "outputs": [
    {
     "name": "stdout",
     "output_type": "stream",
     "text": [
      "['891' '0' '3' 'Dooley, Mr. Patrick' 'male' '32' '0' '0' '370376' '7.75' ''\n",
      " 'Q']\n"
     ]
    }
   ],
   "source": [
    "print data[-1]"
   ]
  },
  {
   "cell_type": "code",
   "execution_count": 11,
   "metadata": {
    "collapsed": false
   },
   "outputs": [
    {
     "name": "stdout",
     "output_type": "stream",
     "text": [
      "Heikkinen, Miss. Laina\n"
     ]
    }
   ],
   "source": [
    "print data[0,3]"
   ]
  },
  {
   "cell_type": "markdown",
   "metadata": {},
   "source": [
    " \"0::\" means all (from start to end)"
   ]
  },
  {
   "cell_type": "code",
   "execution_count": 12,
   "metadata": {
    "collapsed": true
   },
   "outputs": [],
   "source": [
    "number_passenger = np.size(data[0::,1].astype(np.float))"
   ]
  },
  {
   "cell_type": "code",
   "execution_count": 13,
   "metadata": {
    "collapsed": false
   },
   "outputs": [
    {
     "name": "stdout",
     "output_type": "stream",
     "text": [
      "889\n"
     ]
    }
   ],
   "source": [
    "print number_passenger"
   ]
  },
  {
   "cell_type": "code",
   "execution_count": 14,
   "metadata": {
    "collapsed": true
   },
   "outputs": [],
   "source": [
    "number_survived= np.size(data[0::,1].astype(np.float))"
   ]
  },
  {
   "cell_type": "code",
   "execution_count": 15,
   "metadata": {
    "collapsed": false
   },
   "outputs": [
    {
     "name": "stdout",
     "output_type": "stream",
     "text": [
      "889\n"
     ]
    }
   ],
   "source": [
    "print number_survived"
   ]
  },
  {
   "cell_type": "code",
   "execution_count": 16,
   "metadata": {
    "collapsed": true
   },
   "outputs": [],
   "source": [
    "number_survived= np.sum(data[0::,1].astype(np.float))"
   ]
  },
  {
   "cell_type": "code",
   "execution_count": 17,
   "metadata": {
    "collapsed": false
   },
   "outputs": [
    {
     "name": "stdout",
     "output_type": "stream",
     "text": [
      "341.0\n"
     ]
    }
   ],
   "source": [
    "print number_survived"
   ]
  },
  {
   "cell_type": "code",
   "execution_count": 18,
   "metadata": {
    "collapsed": false
   },
   "outputs": [
    {
     "ename": "SyntaxError",
     "evalue": "invalid syntax (<ipython-input-18-348100c317fc>, line 1)",
     "output_type": "error",
     "traceback": [
      "\u001b[1;36m  File \u001b[1;32m\"<ipython-input-18-348100c317fc>\"\u001b[1;36m, line \u001b[1;32m1\u001b[0m\n\u001b[1;33m    print proportion_survivor = number_survived/number_passenger\u001b[0m\n\u001b[1;37m                              ^\u001b[0m\n\u001b[1;31mSyntaxError\u001b[0m\u001b[1;31m:\u001b[0m invalid syntax\n"
     ]
    }
   ],
   "source": [
    "print proportion_survivor = number_survived/number_passenger"
   ]
  },
  {
   "cell_type": "code",
   "execution_count": 19,
   "metadata": {
    "collapsed": true
   },
   "outputs": [],
   "source": [
    "proportion_survivor = number_survived/number_passenger"
   ]
  },
  {
   "cell_type": "code",
   "execution_count": 20,
   "metadata": {
    "collapsed": false
   },
   "outputs": [
    {
     "name": "stdout",
     "output_type": "stream",
     "text": [
      "0.383577052868\n"
     ]
    }
   ],
   "source": [
    "print proportion_survivor"
   ]
  },
  {
   "cell_type": "code",
   "execution_count": 21,
   "metadata": {
    "collapsed": true
   },
   "outputs": [],
   "source": [
    "women_stats = data[0::,4] =='female'"
   ]
  },
  {
   "cell_type": "code",
   "execution_count": 22,
   "metadata": {
    "collapsed": true
   },
   "outputs": [],
   "source": [
    "men_stats = data[0::,4] =='man'"
   ]
  },
  {
   "cell_type": "code",
   "execution_count": 25,
   "metadata": {
    "collapsed": false
   },
   "outputs": [
    {
     "name": "stdout",
     "output_type": "stream",
     "text": [
      "[ True  True False False False False  True  True  True  True False False\n",
      "  True  True False False  True  True False False  True False  True  True\n",
      " False False  True False False  True  True False False False False False\n",
      "  True  True  True  True False  True  True False False  True False  True\n",
      " False False  True  True False False  True False  True False False  True\n",
      " False False False False  True False  True False False  True False False\n",
      " False False False False False  True False False  True False  True  True\n",
      " False False  True False False False False False False False False False\n",
      "  True False  True False False False False False  True False False  True\n",
      " False  True False  True  True False False False False  True False False\n",
      " False  True False False False False  True False False False  True  True\n",
      " False False  True False False False  True  True  True False False False\n",
      " False  True False False False  True False False False False  True False\n",
      " False False False  True False False False False  True  True False False\n",
      " False False  True False False False False  True False False  True False\n",
      " False False  True False  True False False False  True False  True False\n",
      "  True  True False False  True  True False False False False False  True\n",
      " False False  True False False  True False False False  True  True False\n",
      "  True False False False False False False False False False False  True\n",
      "  True False False  True False  True False  True False False  True  True\n",
      " False False False False  True  True False False False  True False False\n",
      "  True  True  True  True  True  True False False False False  True False\n",
      " False False  True  True False False  True False  True  True  True False\n",
      " False  True False False False False False False False False False  True\n",
      "  True  True False  True False False False  True False  True  True False\n",
      " False  True False False  True  True False  True  True  True  True False\n",
      " False  True  True False  True  True False False  True  True False  True\n",
      " False  True  True  True  True False False False  True False False  True\n",
      " False False False  True False False False  True  True  True False False\n",
      " False False False False False False  True  True  True  True False False\n",
      "  True False False False  True  True  True  True False False False False\n",
      "  True  True  True False False False  True  True False  True False False\n",
      " False  True False  True False False False  True  True False  True False\n",
      " False  True False False  True False  True False False False False  True\n",
      " False False  True False False  True  True  True False  True False False\n",
      " False  True False False  True  True False False False  True  True False\n",
      " False  True  True  True False False  True False False  True False False\n",
      "  True False  True False False False False False False False False  True\n",
      "  True False False False False False False False False False False  True\n",
      " False False  True  True  True False False False False  True False False\n",
      " False  True False  True  True False False False False False False False\n",
      " False False  True False  True False False  True  True  True  True False\n",
      "  True False False False False False False  True False False  True False\n",
      "  True False  True False False  True False False  True False False False\n",
      "  True False False  True  True  True False  True False  True  True  True\n",
      "  True False False False  True False False False False False False False\n",
      "  True False  True False  True  True False False False False  True False\n",
      " False  True False False False  True False  True False False  True  True\n",
      "  True False  True  True False False False  True False False False False\n",
      " False  True False  True False False  True False False False  True False\n",
      " False False False False False False  True  True  True False  True False\n",
      " False  True False  True  True False False False False False False False\n",
      " False  True False False False False False False  True  True False False\n",
      "  True False False  True  True False  True False False False False  True\n",
      " False  True False  True  True False False  True False False False False\n",
      " False False False False False False False  True  True False False False\n",
      " False False False  True  True False  True False False False False False\n",
      " False False False  True False  True False False False False False  True\n",
      " False False  True False  True False False False  True False  True False\n",
      "  True False False False False False  True  True False False  True False\n",
      " False False False False  True  True False  True  True False False False\n",
      " False False  True False False False False False  True False False False\n",
      " False  True False False  True False False False  True False False False\n",
      " False  True False False False  True False  True False  True False False\n",
      " False False  True False  True False False  True False  True  True  True\n",
      " False False False False  True False False False False False  True False\n",
      " False False  True  True False  True False  True False False False False\n",
      " False  True False  True False False False  True False False  True False\n",
      " False False  True False False  True False False False False False  True\n",
      "  True False False False False  True False False False False False False\n",
      "  True False False False False False False  True False False  True  True\n",
      "  True  True  True False  True False False False  True  True False  True\n",
      "  True False False False False  True False False  True  True False False\n",
      " False  True  True False  True False False  True False  True  True False\n",
      " False]\n"
     ]
    }
   ],
   "source": [
    "print women_stats "
   ]
  },
  {
   "cell_type": "code",
   "execution_count": 26,
   "metadata": {
    "collapsed": true
   },
   "outputs": [],
   "source": [
    "man_stats = data[0::,4] !='female'"
   ]
  },
  {
   "cell_type": "code",
   "execution_count": 27,
   "metadata": {
    "collapsed": true
   },
   "outputs": [],
   "source": [
    "women_onboard = data[women_stats,1].astype(np.float)"
   ]
  },
  {
   "cell_type": "code",
   "execution_count": 28,
   "metadata": {
    "collapsed": false
   },
   "outputs": [
    {
     "name": "stdout",
     "output_type": "stream",
     "text": [
      "[ 1.  1.  1.  1.  1.  1.  0.  1.  0.  1.  1.  0.  1.  1.  1.  1.  0.  1.\n",
      "  0.  0.  1.  1.  1.  0.  1.  1.  1.  1.  1.  1.  1.  0.  1.  1.  1.  1.\n",
      "  1.  1.  0.  1.  1.  0.  0.  0.  0.  1.  1.  0.  1.  1.  0.  1.  1.  0.\n",
      "  1.  1.  1.  1.  0.  1.  0.  0.  1.  1.  1.  1.  1.  1.  1.  0.  0.  1.\n",
      "  1.  1.  1.  1.  0.  1.  1.  0.  1.  0.  1.  0.  1.  0.  0.  1.  1.  1.\n",
      "  1.  1.  0.  1.  1.  1.  1.  1.  0.  1.  1.  1.  1.  0.  0.  1.  1.  1.\n",
      "  1.  1.  1.  1.  1.  0.  1.  1.  1.  1.  1.  1.  1.  1.  1.  1.  1.  1.\n",
      "  1.  1.  1.  1.  1.  1.  0.  1.  1.  0.  1.  1.  1.  1.  0.  1.  1.  1.\n",
      "  1.  1.  1.  1.  1.  1.  0.  1.  0.  0.  0.  1.  0.  1.  1.  0.  0.  1.\n",
      "  1.  1.  1.  1.  0.  1.  1.  1.  1.  1.  1.  1.  1.  1.  1.  0.  1.  1.\n",
      "  0.  1.  1.  0.  0.  0.  0.  1.  1.  1.  1.  1.  1.  1.  1.  1.  1.  0.\n",
      "  1.  1.  1.  1.  0.  0.  1.  1.  1.  1.  1.  0.  0.  1.  1.  1.  1.  0.\n",
      "  1.  1.  1.  1.  0.  1.  1.  1.  1.  0.  1.  1.  0.  1.  1.  0.  1.  0.\n",
      "  1.  0.  1.  1.  1.  1.  0.  0.  1.  1.  1.  0.  0.  1.  1.  1.  1.  0.\n",
      "  1.  1.  1.  1.  1.  1.  1.  1.  0.  1.  0.  1.  1.  1.  1.  1.  1.  1.\n",
      "  0.  0.  1.  1.  1.  1.  1.  1.  0.  1.  1.  0.  1.  0.  1.  0.  0.  1.\n",
      "  1.  1.  1.  1.  1.  1.  0.  1.  0.  1.  1.  1.  1.  0.  1.  1.  1.  1.\n",
      "  1.  1.  1.  0.  0.  1.  0.]\n"
     ]
    }
   ],
   "source": [
    "print women_onboard"
   ]
  },
  {
   "cell_type": "code",
   "execution_count": 30,
   "metadata": {
    "collapsed": false
   },
   "outputs": [
    {
     "name": "stdout",
     "output_type": "stream",
     "text": [
      "Proportion of women who survived is 0.741214057508\n",
      "Proportion of men who survived is 0.189236111111\n"
     ]
    }
   ],
   "source": [
    "men_onboard  = data[man_stats,1].astype(np.float)\n",
    "p_women_surv = np.sum(women_onboard)/np.size(women_onboard)\n",
    "p_men_surv = np.sum(men_onboard)/np.size(men_onboard)\n",
    "\n",
    "print 'Proportion of women who survived is %s' % p_women_surv\n",
    "print 'Proportion of men who survived is %s' % p_men_surv"
   ]
  },
  {
   "cell_type": "code",
   "execution_count": 32,
   "metadata": {
    "collapsed": true
   },
   "outputs": [],
   "source": [
    "test_file  = open('../MachineLearning/test.csv','rb')\n",
    "test_file_object = csv.reader(test_file)\n",
    "header = test_file_object.next()"
   ]
  },
  {
   "cell_type": "code",
   "execution_count": 33,
   "metadata": {
    "collapsed": true
   },
   "outputs": [],
   "source": [
    "prediction = open(\"genderBaseModel.csv\",'wb')\n",
    "prrediction_object = csv.writer(prediction)"
   ]
  },
  {
   "cell_type": "code",
   "execution_count": 34,
   "metadata": {
    "collapsed": true
   },
   "outputs": [],
   "source": [
    "prrediction_object.writerow([\"PassengerId\", \"Survived\"])\n",
    "for row in test_file_object:\n",
    "    if row[3] =='female':\n",
    "        prrediction_object.writerow([row[0],'1'])\n",
    "    else:\n",
    "        prrediction_object.writerow([row[0],'0'])\n",
    "test_file.close()\n",
    "prediction.close()"
   ]
  },
  {
   "cell_type": "code",
   "execution_count": null,
   "metadata": {
    "collapsed": true
   },
   "outputs": [],
   "source": []
  }
 ],
 "metadata": {
  "kernelspec": {
   "display_name": "Python 2",
   "language": "python",
   "name": "python2"
  },
  "language_info": {
   "codemirror_mode": {
    "name": "ipython",
    "version": 2
   },
   "file_extension": ".py",
   "mimetype": "text/x-python",
   "name": "python",
   "nbconvert_exporter": "python",
   "pygments_lexer": "ipython2",
   "version": "2.7.11"
  }
 },
 "nbformat": 4,
 "nbformat_minor": 0
}
