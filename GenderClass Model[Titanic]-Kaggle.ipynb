{
 "cells": [
  {
   "cell_type": "code",
   "execution_count": 1,
   "metadata": {
    "collapsed": true
   },
   "outputs": [],
   "source": [
    "import csv as csv \n",
    "import numpy as np\n",
    "\n",
    "# Open up the csv file in to a Python object\n",
    "csv_file_object = csv.reader(open('../MachineLearning/train.csv', 'rb')) \n",
    "header = csv_file_object.next()  # The next() command just skips the \n",
    "                                 # first line which is a header\n",
    "data=[]                          # Create a variable called 'data'.\n",
    "for row in csv_file_object:      # Run through each row in the csv file,\n",
    "    data.append(row)             # adding each row to the data variable\n",
    "data = np.array(data)            # Then convert from a list to an array\n",
    "\t\t\t         # Be aware that each item is currently\n",
    "                                 # a string in this format"
   ]
  },
  {
   "cell_type": "code",
   "execution_count": 2,
   "metadata": {
    "collapsed": false
   },
   "outputs": [
    {
     "name": "stdout",
     "output_type": "stream",
     "text": [
      "Proportion of women who survived is 0.742038216561\n",
      "Proportion of men who survived is 0.188908145581\n"
     ]
    }
   ],
   "source": [
    "number_passengers = np.size(data[0::,1].astype(np.float))\n",
    "number_survived = np.sum(data[0::,1].astype(np.float))\n",
    "proportion_survivors = number_survived / number_passengers\n",
    "women_only_stats = data[0::,4] == \"female\" # This finds where all \n",
    "                                           # the elements in the gender\n",
    "                                           # column that equals “female”\n",
    "men_only_stats = data[0::,4] != \"female\"   # This finds where all the \n",
    "                                           # elements do not equal \n",
    "                                           # female (i.e. male)\n",
    "women_onboard = data[women_only_stats,1].astype(np.float)     \n",
    "men_onboard = data[men_only_stats,1].astype(np.float)\n",
    "\n",
    "# Then we finds the proportions of them that survived\n",
    "proportion_women_survived = \\\n",
    "                       np.sum(women_onboard) / np.size(women_onboard)  \n",
    "proportion_men_survived = \\\n",
    "                       np.sum(men_onboard) / np.size(men_onboard) \n",
    "\n",
    "# and then print it out\n",
    "print 'Proportion of women who survived is %s' % proportion_women_survived\n",
    "print 'Proportion of men who survived is %s' % proportion_men_survived"
   ]
  },
  {
   "cell_type": "code",
   "execution_count": 3,
   "metadata": {
    "collapsed": true
   },
   "outputs": [],
   "source": [
    "fare_ceiling = 40\n",
    "data[data[0::,9].astype(np.float) >= fare_ceiling, 9] = fare_ceiling -1.0\n"
   ]
  },
  {
   "cell_type": "code",
   "execution_count": 4,
   "metadata": {
    "collapsed": false
   },
   "outputs": [
    {
     "name": "stdout",
     "output_type": "stream",
     "text": [
      "['7.25' '39.0' '7.925' '39.0' '8.05' '8.4583' '39.0' '21.075' '11.1333'\n",
      " '30.0708' '16.7' '26.55' '8.05' '31.275' '7.8542' '16' '29.125' '13' '18'\n",
      " '7.225' '26' '13' '8.0292' '35.5' '21.075' '31.3875' '7.225' '39.0'\n",
      " '7.8792' '7.8958' '27.7208' '39.0' '7.75' '10.5' '39.0' '39.0' '7.2292'\n",
      " '8.05' '18' '11.2417' '9.475' '21' '7.8958' '39.0' '7.8792' '8.05' '15.5'\n",
      " '7.75' '21.6792' '17.8' '39.6875' '7.8' '39.0' '26' '39.0' '35.5' '10.5'\n",
      " '7.2292' '27.75' '39.0' '7.2292' '39.0' '39.0' '27.9' '27.7208' '15.2458'\n",
      " '10.5' '8.1583' '7.925' '8.6625' '10.5' '39.0' '39.0' '14.4542' '39.0'\n",
      " '7.65' '7.8958' '8.05' '29' '12.475' '9' '9.5' '7.7875' '39.0' '10.5'\n",
      " '15.85' '34.375' '8.05' '39.0' '8.05' '8.05' '7.8542' '39.0' '20.575'\n",
      " '7.25' '8.05' '34.6542' '39.0' '23' '26' '7.8958' '7.8958' '39.0' '8.6542'\n",
      " '7.925' '7.8958' '7.65' '7.775' '7.8958' '24.15' '39.0' '14.4542' '8.05'\n",
      " '9.825' '14.4583' '7.925' '7.75' '21' '39.0' '31.275' '39.0' '8.05'\n",
      " '30.0708' '13' '39.0' '11.2417' '7.75' '7.1417' '22.3583' '6.975' '7.8958'\n",
      " '7.05' '14.5' '26' '13' '15.0458' '26.2833' '39.0' '9.2167' '39.0'\n",
      " '15.2458' '7.75' '15.85' '6.75' '11.5' '36.75' '7.7958' '34.375' '26' '13'\n",
      " '12.525' '39.0' '8.05' '14.5' '7.3125' '39.0' '7.7333' '8.05' '8.6625'\n",
      " '39.0' '16.1' '15.75' '7.775' '8.6625' '39.6875' '20.525' '39.0' '27.9'\n",
      " '25.925' '39.0' '33.5' '29.125' '11.1333' '7.925' '30.6958' '7.8542'\n",
      " '25.4667' '28.7125' '13' '0' '39.0' '15.05' '31.3875' '39' '22.025' '39.0'\n",
      " '15.5' '26.55' '15.5' '7.8958' '13' '13' '7.8542' '26' '27.7208' '39.0'\n",
      " '7.75' '8.4042' '7.75' '13' '9.5' '39.0' '6.4958' '7.225' '8.05' '10.4625'\n",
      " '15.85' '18.7875' '7.75' '31' '7.05' '21' '7.25' '13' '7.75' '39.0'\n",
      " '7.925' '27' '39.0' '10.5' '8.05' '13' '8.05' '7.8958' '39.0' '9.35'\n",
      " '10.5' '7.25' '13' '25.4667' '39.0' '7.775' '13.5' '31.3875' '10.5' '7.55'\n",
      " '26' '26.25' '10.5' '12.275' '14.4542' '15.5' '10.5' '7.125' '7.225'\n",
      " '39.0' '7.775' '14.5' '39.0' '26' '7.25' '10.4625' '26.55' '16.1'\n",
      " '20.2125' '15.2458' '39.0' '39.0' '39.0' '26' '7.75' '31.3875' '39.0' '0'\n",
      " '7.75' '10.5' '39.6875' '7.775' '39.0' '39.0' '31' '0' '19.5' '29.7'\n",
      " '7.75' '39.0' '7.75' '0' '29.125' '20.25' '7.75' '7.8542' '9.5' '8.05'\n",
      " '26' '8.6625' '9.5' '7.8958' '13' '7.75' '39.0' '39.0' '12.875' '8.85'\n",
      " '7.8958' '27.7208' '7.2292' '39.0' '30.5' '39.0' '7.75' '23.25' '0'\n",
      " '12.35' '8.05' '39.0' '39.0' '39.0' '24' '39.0' '39.0' '39.0' '26'\n",
      " '7.8958' '26.25' '7.8542' '26' '14' '39.0' '39.0' '7.25' '7.8958' '12.35'\n",
      " '29' '39.0' '39.0' '6.2375' '13' '20.525' '39.0' '23.25' '28.5' '39.0'\n",
      " '18' '39.0' '7.8958' '39.0' '39.0' '8.05' '35.5' '26' '39.0' '13' '13'\n",
      " '13' '13' '13' '16.1' '15.9' '8.6625' '9.225' '35' '7.2292' '17.8' '7.225'\n",
      " '9.5' '39.0' '13' '7.8792' '7.8792' '27.9' '27.7208' '14.4542' '7.05'\n",
      " '15.5' '7.25' '39.0' '7.2292' '7.75' '39.0' '39.0' '6.4958' '8.05' '39.0'\n",
      " '21.075' '39.0' '7.25' '39.0' '4.0125' '7.775' '39.0' '15.7417' '7.925'\n",
      " '39.0' '7.8958' '39.0' '39.0' '13' '7.7292' '12' '39.0' '7.7958' '7.925'\n",
      " '39.0' '16.7' '7.7958' '7.8542' '26' '10.5' '12.65' '7.925' '8.05' '9.825'\n",
      " '15.85' '8.6625' '21' '7.75' '18.75' '7.775' '25.4667' '7.8958' '6.8583'\n",
      " '39.0' '0' '7.925' '8.05' '32.5' '13' '13' '24.15' '7.8958' '7.7333'\n",
      " '7.875' '14.4' '20.2125' '7.25' '26' '26' '7.75' '8.05' '26.55' '16.1'\n",
      " '26' '7.125' '39.0' '39.0' '34.375' '18.75' '39.0' '10.5' '26.25' '9.5'\n",
      " '7.775' '13' '8.1125' '39.0' '19.5' '26.55' '19.2583' '30.5' '27.75'\n",
      " '19.9667' '27.75' '39.0' '8.05' '7.8958' '26.55' '39.0' '10.5' '7.75'\n",
      " '26.55' '8.05' '38.5' '13' '8.05' '7.05' '0' '26.55' '7.725' '19.2583'\n",
      " '7.25' '8.6625' '27.75' '13.7917' '9.8375' '39.0' '21' '7.0458' '7.5208'\n",
      " '12.2875' '39.0' '0' '8.05' '9.5875' '39.0' '25.4667' '39.0' '29.7' '8.05'\n",
      " '15.9' '19.9667' '7.25' '30.5' '39.0' '8.05' '14.4583' '39.0' '15.1'\n",
      " '39.0' '7.7958' '8.6625' '7.75' '7.6292' '9.5875' '39.0' '39.0' '26'\n",
      " '26.55' '22.525' '39.0' '7.75' '8.05' '26.2875' '39.0' '7.4958' '34.0208'\n",
      " '10.5' '24.15' '26' '7.8958' '39.0' '7.8958' '7.225' '39.0' '7.2292'\n",
      " '7.75' '10.5' '39.0' '7.925' '11.5' '26' '7.2292' '7.2292' '22.3583'\n",
      " '8.6625' '26.25' '26.55' '39.0' '14.5' '39.0' '39.0' '31.275' '31.275'\n",
      " '26' '39.0' '26' '26' '13.8625' '20.525' '36.75' '39.0' '26' '7.8292'\n",
      " '7.225' '7.775' '26.55' '39.6' '39.0' '39.0' '17.4' '7.75' '7.8958' '13.5'\n",
      " '8.05' '8.05' '24.15' '7.8958' '21.075' '7.2292' '7.8542' '10.5' '39.0'\n",
      " '26.3875' '7.75' '8.05' '14.5' '13' '39.0' '14.4583' '7.925' '30' '39.0'\n",
      " '26' '39.0' '8.7125' '39.0' '15' '39.0' '8.05' '8.05' '7.125' '39.0'\n",
      " '7.25' '7.75' '26' '24.15' '33' '0' '7.225' '39.0' '27' '7.8958' '39.0'\n",
      " '8.05' '26.55' '15.55' '7.8958' '30.5' '39.0' '39.0' '31.275' '7.05'\n",
      " '15.5' '7.75' '8.05' '39.0' '14.4' '16.1' '39' '10.5' '14.4542' '39.0'\n",
      " '15.7417' '7.8542' '16.1' '32.3208' '12.35' '39.0' '7.8958' '7.7333' '30'\n",
      " '7.0542' '30.5' '0' '27.9' '13' '7.925' '26.25' '39.6875' '16.1' '7.8542'\n",
      " '39.0' '27.9' '39.0' '19.2583' '39.0' '7.8958' '35.5' '7.55' '7.55'\n",
      " '7.8958' '23' '8.4333' '7.8292' '6.75' '39.0' '7.8958' '15.5' '13' '39.0'\n",
      " '39.0' '7.225' '25.5875' '7.4958' '7.925' '39.0' '13' '7.775' '8.05'\n",
      " '39.0' '39' '39.0' '10.5' '13' '0' '7.775' '8.05' '9.8417' '39.0' '39.0'\n",
      " '8.1375' '39.0' '9.225' '39.0' '39' '39.0' '39.6875' '10.1708' '7.7958'\n",
      " '39.0' '39.0' '13.4167' '39.0' '7.225' '26.55' '13.5' '8.05' '7.7333'\n",
      " '39.0' '7.65' '39.0' '26.2875' '14.4542' '7.7417' '7.8542' '26' '13.5'\n",
      " '26.2875' '39.0' '15.2458' '39.0' '26.55' '39.0' '9.4833' '13' '7.65'\n",
      " '39.0' '10.5' '15.5' '7.775' '33' '7.0542' '13' '13' '39.0' '8.6625' '21'\n",
      " '7.7375' '26' '7.925' '39.0' '18.7875' '0' '13' '13' '16.1' '34.375'\n",
      " '39.0' '7.8958' '7.8958' '30' '39.0' '39.0' '16.1' '7.925' '39.0' '20.25'\n",
      " '13' '39.0' '7.75' '23' '12.475' '9.5' '7.8958' '39.0' '14.5' '7.7958'\n",
      " '11.5' '8.05' '39.0' '14.5' '7.125' '7.2292' '39.0' '7.775' '39.0' '39.6'\n",
      " '7.75' '24.15' '8.3625' '9.5' '7.8542' '10.5' '7.225' '23' '7.75' '7.75'\n",
      " '12.475' '7.7375' '39.0' '7.2292' '39.0' '30' '23.45' '7.05' '7.25'\n",
      " '7.4958' '29.125' '20.575' '39.0' '7.75' '26' '39.0' '30.6958' '7.8958'\n",
      " '13' '25.9292' '8.6833' '7.2292' '24.15' '13' '26.25' '39.0' '8.5167'\n",
      " '6.975' '7.775' '0' '7.775' '13' '39.0' '7.8875' '24.15' '10.5' '31.275'\n",
      " '8.05' '0' '7.925' '37.0042' '6.45' '27.9' '39.0' '8.6625' '0' '12.475'\n",
      " '39.6875' '6.95' '39.0' '37.0042' '7.75' '39.0' '14.4542' '18.75' '7.2292'\n",
      " '7.8542' '8.3' '39.0' '8.6625' '8.05' '39.0' '29.7' '7.925' '10.5' '31'\n",
      " '6.4375' '8.6625' '7.55' '39.0' '7.8958' '33' '39.0' '31.275' '7.775'\n",
      " '15.2458' '39.4' '26' '9.35' '39.0' '26.55' '19.2583' '7.2292' '14.1083'\n",
      " '11.5' '25.9292' '39.0' '13' '13' '13.8583' '39.0' '9.5' '11.1333'\n",
      " '7.8958' '39.0' '5' '9' '24' '7.225' '9.8458' '7.8958' '7.8958' '39.0'\n",
      " '26' '7.8958' '10.5167' '10.5' '7.05' '29.125' '13' '30' '23.45' '30'\n",
      " '7.75']\n"
     ]
    }
   ],
   "source": [
    "print data[0::,9]"
   ]
  },
  {
   "cell_type": "code",
   "execution_count": 6,
   "metadata": {
    "collapsed": false
   },
   "outputs": [],
   "source": [
    "fare_bracket_size = 10\n",
    "number_of_price_brackets = fare_ceiling/fare_bracket_size\n",
    "#number_of_classes upper,lower etc = 3\n",
    "number_of_classes = len(np.unique(data[0::,2]))\n",
    "survival = np.zeros((2,number_of_classes,number_of_price_brackets))"
   ]
  },
  {
   "cell_type": "code",
   "execution_count": 8,
   "metadata": {
    "collapsed": false
   },
   "outputs": [],
   "source": [
    "for i in xrange(number_of_classes):\n",
    "    for j in xrange(number_of_price_brackets):\n",
    "        women_only_stats = data[\n",
    "                            (data[0::,4] == \"female\")\\\n",
    "                           &(data[0::,2].astype(np.float)==i+1)\\\n",
    "                           &(data[0:,9].astype(np.float) >= j*fare_bracket_size)\\\n",
    "                           &(data[0:,9].astype(np.float) <(j+1)*fare_bracket_size),1]\n",
    "        men_only_stats = data[\n",
    "                            (data[0::,4] !=\"female\")\\\n",
    "                           &(data[0::,2].astype(np.float) == i+1)\\\n",
    "                           &(data[0:,9].astype(np.float) >= j*fare_bracket_size)\\\n",
    "                           &(data[0:,9].astype(np.float) < (j+1)*fare_bracket_size),1]     ]"
   ]
  },
  {
   "cell_type": "code",
   "execution_count": 11,
   "metadata": {
    "collapsed": false
   },
   "outputs": [
    {
     "name": "stdout",
     "output_type": "stream",
     "text": [
      "['1' '0' '0' '0' '0' '1' '0' '0' '0' '0' '0' '0' '0' '0' '0' '0']\n",
      "[ True False False False  True  True  True  True False False False False\n",
      "  True  True False False  True  True False False  True  True False  True\n",
      " False False  True  True False  True  True False False  True  True  True\n",
      "  True  True False False False False  True False False  True  True False\n",
      "  True False  True  True False False  True  True False  True False  True\n",
      "  True False  True  True  True  True False  True False  True  True False\n",
      "  True  True  True  True  True  True  True False  True  True False  True\n",
      " False False  True  True False  True  True  True  True  True  True  True\n",
      "  True  True False  True False  True  True  True  True  True False  True\n",
      "  True False  True False  True False False  True  True  True  True False\n",
      "  True  True  True False  True  True  True  True False  True  True  True\n",
      " False False  True  True False  True  True  True False False False  True\n",
      "  True  True  True False  True  True  True False  True  True  True  True\n",
      " False  True  True  True  True False  True  True  True  True False False\n",
      "  True  True  True  True False  True  True  True  True False  True  True\n",
      " False  True  True  True False  True False  True  True  True False  True\n",
      " False  True False False  True  True False False  True  True  True  True\n",
      "  True False  True  True False  True  True False  True  True  True False\n",
      " False  True False  True  True  True  True  True  True  True  True  True\n",
      "  True False False  True  True False  True False  True False  True  True\n",
      " False False  True  True  True  True False False  True  True  True False\n",
      "  True  True False False False False False False  True  True  True  True\n",
      " False  True  True  True False False  True  True False  True False False\n",
      " False  True  True False  True  True  True  True  True  True  True  True\n",
      "  True False False False  True False  True  True  True False  True False\n",
      " False  True  True False  True  True False False  True False False False\n",
      " False  True  True False False  True False False  True  True False False\n",
      "  True False  True False False False False  True  True  True False  True\n",
      "  True False  True  True  True False  True  True  True False False False\n",
      "  True  True  True  True  True  True  True  True False False False False\n",
      "  True  True False  True  True  True False False False False  True  True\n",
      "  True  True False False False  True  True  True False False  True False\n",
      "  True  True  True False  True False  True  True  True False False  True\n",
      " False  True  True False  True  True False  True False  True  True  True\n",
      "  True False  True  True False  True  True False False False  True False\n",
      "  True  True  True False  True  True False False  True  True  True False\n",
      " False  True  True False False False  True  True False  True  True False\n",
      "  True  True False  True False  True  True  True  True  True  True  True\n",
      "  True False False  True  True  True  True  True  True  True  True  True\n",
      "  True False  True  True False False False  True  True  True  True False\n",
      "  True  True  True False  True False False  True  True  True  True  True\n",
      "  True  True  True  True False  True False  True  True False False False\n",
      " False  True False  True  True  True  True  True  True False  True  True\n",
      " False  True False  True False  True  True False  True  True False  True\n",
      "  True  True False  True  True False False False  True False  True False\n",
      " False False False  True  True  True False  True  True  True  True  True\n",
      "  True  True False  True False  True False False  True  True  True  True\n",
      " False  True  True False  True  True  True False  True False  True  True\n",
      " False False False  True False False  True  True  True False  True  True\n",
      "  True  True  True False  True False  True  True False  True  True  True\n",
      " False  True  True  True  True  True  True  True False False False  True\n",
      " False  True  True False  True False False  True  True  True  True  True\n",
      "  True  True  True False  True  True  True  True  True  True False False\n",
      "  True  True False  True  True False False  True False  True  True  True\n",
      "  True False  True False  True False False  True  True False  True  True\n",
      "  True  True  True  True  True  True  True  True  True False False  True\n",
      "  True  True  True  True  True False False  True False  True  True  True\n",
      "  True  True  True  True  True False  True False  True  True  True  True\n",
      "  True False  True  True False  True False  True  True  True False  True\n",
      " False  True False  True  True  True  True  True False False  True  True\n",
      " False  True  True  True  True  True False False  True False False  True\n",
      "  True  True  True  True False  True  True  True  True  True False  True\n",
      "  True  True  True False  True  True False  True  True  True False  True\n",
      "  True  True  True False  True  True  True False  True False  True False\n",
      "  True  True  True  True False  True False  True  True False  True False\n",
      " False False  True  True  True  True False  True  True  True  True  True\n",
      " False  True  True  True False False  True False  True False  True  True\n",
      "  True  True  True False  True False  True  True  True False  True  True\n",
      " False  True  True  True False  True  True False  True  True  True  True\n",
      "  True False False  True  True  True  True False  True  True  True  True\n",
      "  True  True False  True  True  True  True  True  True False  True  True\n",
      " False False False False False  True False  True  True  True False False\n",
      "  True False False  True  True  True  True False  True  True False False\n",
      "  True  True  True False False  True False  True  True False  True False\n",
      " False  True  True]\n"
     ]
    }
   ],
   "source": [
    "print women_only_stats\n",
    "print men_only_stats"
   ]
  },
  {
   "cell_type": "code",
   "execution_count": 13,
   "metadata": {
    "collapsed": false
   },
   "outputs": [],
   "source": [
    "survival_table = np.zeros((2, number_of_classes, number_of_price_brackets))\n",
    "survival_table[0,i,j] = np.mean(women_only_stats.astype(np.float)) \n",
    "survival_table[1,i,j] = np.mean(men_only_stats.astype(np.float))"
   ]
  },
  {
   "cell_type": "code",
   "execution_count": 14,
   "metadata": {
    "collapsed": true
   },
   "outputs": [],
   "source": [
    "survival_table[ survival_table < 0.5 ] = 0\n",
    "survival_table[ survival_table >= 0.5 ] = 1"
   ]
  },
  {
   "cell_type": "code",
   "execution_count": 32,
   "metadata": {
    "collapsed": true
   },
   "outputs": [],
   "source": [
    "test_file = open('../MachineLearning/test.csv','rb')\n",
    "test_file_object = csv.reader(test_file)\n",
    "header = test_file_object.next()\n",
    "prediction_file = open('../MachineLearning/genderClassModel.csv',\"wb\")\n",
    "p = csv.writer(prediction_file)\n",
    "p.writerow([\"PassengerId\",\"Survived\"])"
   ]
  },
  {
   "cell_type": "code",
   "execution_count": 33,
   "metadata": {
    "collapsed": false
   },
   "outputs": [
    {
     "name": "stderr",
     "output_type": "stream",
     "text": [
      "C:\\Anaconda2\\lib\\site-packages\\ipykernel\\__main__.py:22: DeprecationWarning: using a non-integer number instead of an integer will result in an error in the future\n",
      "C:\\Anaconda2\\lib\\site-packages\\ipykernel\\__main__.py:24: DeprecationWarning: using a non-integer number instead of an integer will result in an error in the future\n"
     ]
    }
   ],
   "source": [
    "for row in test_file_object:                 # We are going to loop\n",
    "                                              # through each passenger\n",
    "                                              # in the test set                     \n",
    "  for j in xrange(number_of_price_brackets):  # For each passenger we\n",
    "                                              # loop thro each price bin\n",
    "    try:                                      # Some passengers have no\n",
    "                                              # Fare data so try to make\n",
    "      row[8] = float(row[8])                  # a float\n",
    "    except:                                   # If fails: no data, so \n",
    "      bin_fare = 3 - float(row[1])            # bin the fare according Pclass\n",
    "      break                                   # Break from the loop\n",
    "    if row[8] > fare_ceiling:              # If there is data see if\n",
    "                                              # it is greater than fare\n",
    "                                              # ceiling we set earlier\n",
    "      bin_fare = number_of_price_brackets-1   # If so set to highest bin\n",
    "      break                                   # And then break loop\n",
    "    if row[8] >= j * fare_bracket_size\\\n",
    "       and row[8] < \\\n",
    "       (j+1) * fare_bracket_size:             # If passed these tests \n",
    "                                              # then loop through each bin \n",
    "      bin_fare = j                            # then assign index\n",
    "      break                                   \n",
    "    if row[3] == 'female':                             #If the passenger is female\n",
    "        p.writerow([row[0], \"%d\" % \\\n",
    "                   int(survival_table[0, float(row[1])-1, bin_fare])])\n",
    "    else:                                          #else if male\n",
    "        p.writerow([row[0], \"%d\" % \\\n",
    "                   int(survival_table[1, float(row[1])-1, bin_fare])])\n",
    "     \n",
    "# Close out the files.\n",
    "test_file.close() \n",
    "prediction_file.close()"
   ]
  },
  {
   "cell_type": "code",
   "execution_count": 34,
   "metadata": {
    "collapsed": false
   },
   "outputs": [
    {
     "name": "stdout",
     "output_type": "stream",
     "text": [
      "[[[ 0.  0.  0.  0.]\n",
      "  [ 0.  0.  0.  0.]\n",
      "  [ 0.  0.  0.  0.]]\n",
      "\n",
      " [[ 0.  0.  0.  0.]\n",
      "  [ 0.  0.  0.  0.]\n",
      "  [ 0.  0.  0.  1.]]]\n"
     ]
    }
   ],
   "source": [
    "print survival_table"
   ]
  },
  {
   "cell_type": "code",
   "execution_count": null,
   "metadata": {
    "collapsed": true
   },
   "outputs": [],
   "source": []
  }
 ],
 "metadata": {
  "kernelspec": {
   "display_name": "Python 2",
   "language": "python",
   "name": "python2"
  },
  "language_info": {
   "codemirror_mode": {
    "name": "ipython",
    "version": 2
   },
   "file_extension": ".py",
   "mimetype": "text/x-python",
   "name": "python",
   "nbconvert_exporter": "python",
   "pygments_lexer": "ipython2",
   "version": "2.7.11"
  }
 },
 "nbformat": 4,
 "nbformat_minor": 0
}
